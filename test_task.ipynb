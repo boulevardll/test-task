{
 "cells": [
  {
   "cell_type": "markdown",
   "id": "dcacbd96",
   "metadata": {},
   "source": [
    "# 1. Вопросы."
   ]
  },
  {
   "cell_type": "markdown",
   "id": "a9dd83c2",
   "metadata": {},
   "source": [
    "1) Как хорошо Вы владеете Python? Оцените свой уровень по шкале от 0 до 10, где 0 - совсем не знаю, 10 - владею в совершенстве. Объясните, почему Вы выбрали такой балл"
   ]
  },
  {
   "cell_type": "markdown",
   "id": "f825fa5a",
   "metadata": {},
   "source": [
    "Свой уровень владения языком Python оценю на 7 из 10. Объяснить свой выбор могу так: отлично владею всеми базовыми конструкциями языка, работал со строками, списками, множествами и словарями, знаком с файловым вводом и выводом. Также имел опыт работы с библиотеками numpy, pandas, keras и sklearn."
   ]
  },
  {
   "cell_type": "markdown",
   "id": "388e23d3",
   "metadata": {},
   "source": [
    " 2) Насколько хорошо Вы знакомы с Google Sheets? Оцените свой уровень по\n",
    "шкале от 0 до 10, где 0 - совсем не знаю, 10 - владею в совершенстве.\n",
    "Объясните, почему Вы выбрали такой балл."
   ]
  },
  {
   "cell_type": "markdown",
   "id": "eca1c532",
   "metadata": {},
   "source": [
    "Навык владения Google Sheets оцениваю на 7 из 10. Приходилось работать с Google Sheets ранее, также есть хороший уровень владения Excel"
   ]
  },
  {
   "cell_type": "markdown",
   "id": "18fcd4c1",
   "metadata": {},
   "source": [
    "# 2. Задачи на логику:"
   ]
  },
  {
   "cell_type": "markdown",
   "id": "34300c0e",
   "metadata": {},
   "source": [
    "1) Рекламная кампания стартовала вчера с дневным бюджетом 40 $. Половина\n",
    "бюджета была израсходована к полудню, а 80% оставшегося бюджета было\n",
    "потрачено между полуднем и временем закрытия. Сколько долларов не было\n",
    "потрачено?\n"
   ]
  },
  {
   "cell_type": "markdown",
   "id": "446f4be4",
   "metadata": {},
   "source": [
    "РЕШЕНИЕ:\n",
    "1) 40 / 2 = 20 (осталось к полудню)\n",
    "2) 20 * 0.8 = 16(потрачено между полуднем и временем закрытия)\n",
    "3) 20 - 16 = 4 (не было потрачено) \n",
    "\n",
    "ОТВЕТ: 4 доллара не было потрачено"
   ]
  },
  {
   "cell_type": "markdown",
   "id": "5dbff067",
   "metadata": {},
   "source": [
    "2) 5 идентичных рекламных кампаний работали 24 дня по 6 часов в день,\n",
    "потрачено было 120 долларов. Сколько дней они работали бы на 216 долларов,\n",
    "если бы 9 одинаковых кампаний работали бы по 8 часов в день?"
   ]
  },
  {
   "cell_type": "markdown",
   "id": "ecb3a4a4",
   "metadata": {},
   "source": [
    "РЕШЕНИЕ:\n",
    "\n",
    "1) 120 / 24 = 5(долларов получают 5 кампаний за 6 часовую работу)\n",
    "2) 5 / 5 = 1(доллара получает 1 кампания за 6 часовую работу)\n",
    "3) 1 * 8/6 = 4/3(доллара получает 1 кампания за 8 часовую работу)\n",
    "4) 216 / 9 = 24(долларов получила 1 кампания за N кол-во дней по 8 часов работы)\n",
    "5) 24 / 4/3 = 18 (дней)\n",
    "\n",
    "ОТВЕТ: 18 дней они работали"
   ]
  },
  {
   "cell_type": "markdown",
   "id": "4e577f61",
   "metadata": {},
   "source": [
    "3) Дизайнеры создали 200 рекламных баннеров для двух рекламных кампаний. 80\n",
    "из них не использовались ни в кампании №1, ни в кампании №2, 60\n",
    "использовались только в кампании №1. И для каждого рекламного баннера,\n",
    "который использовался в обеих кампаниях, приходится 3 баннера, которые\n",
    "использовались только в кампании №2. Сколько баннеров было использовано в\n",
    "обеих рекламных кампаниях?\n"
   ]
  },
  {
   "cell_type": "markdown",
   "id": "cc9e05f4",
   "metadata": {},
   "source": [
    "РЕШЕНИЕ:\n",
    "1) 200 - 80 = 120(баннеры, которые использовались в рекламах)\n",
    "2) 120 - 60 = 60(использовались в обеих или в 2 кампаниях)\n",
    "3) отношение 1/3, отсюда следует, что 4x = 60, x = 15(баннеры, использовались в обеих рекламных кампаниях)\n",
    "\n",
    "ОТВЕТ: 15 баннеров\n"
   ]
  },
  {
   "cell_type": "markdown",
   "id": "bc804366",
   "metadata": {},
   "source": [
    "4) Энн использует Instagram, но не Facebook, а Джон использует Youtube и\n",
    "Facebook. Кейт использует Youtube, но не Instagram, а Том использует Facebook,\n",
    "но не Youtube. Если каждый человек использует две из трех социальных сетей,\n",
    "у кого предпочтения совпадают?"
   ]
  },
  {
   "cell_type": "markdown",
   "id": "3f595f03",
   "metadata": {},
   "source": [
    "РЕШЕНИЕ:\n",
    "Выпишем все соцсети, которые используют люди: \n",
    "\n",
    "Энн - Instagram, Youtube\n",
    "\n",
    "Джон - Youtube, Facebook\n",
    "\n",
    "Кейт - Youtube, Facebook\n",
    "\n",
    "Том - Facebook, Instagram\n",
    "\n",
    "Получается, что Джона и Кейт предпочтения совпадают\n",
    "\n",
    "ОТВЕТ: Джон и Кейт"
   ]
  },
  {
   "cell_type": "markdown",
   "id": "265d39aa",
   "metadata": {},
   "source": [
    "5) Средний итоговый балл стажера по 4 модулям составляет 78 баллов. Сколько\n",
    "баллов должен получить стажер за 5-й модуль, чтобы средний балл по всему\n",
    "заданию составил 80?"
   ]
  },
  {
   "cell_type": "markdown",
   "id": "e2118dc2",
   "metadata": {},
   "source": [
    "РЕШЕНИЕ:\n",
    "составим уравнение:\n",
    "\n",
    "(78 * 4 + x) / 5  = 80\n",
    "\n",
    "x = 80 * 5 - 312 = 88\n",
    "\n",
    "ОТВЕТ: 88"
   ]
  },
  {
   "cell_type": "markdown",
   "id": "4e8cab6e",
   "metadata": {},
   "source": [
    "6) Заказанные в приложении товары доставляются на автомобиле. Автомобиль\n",
    "проезжает 260 км со средней скоростью 80 км / ч. На обратном пути машина\n",
    "движется со средней скоростью 100 км / ч. Насколько быстрее был обратный\n",
    "путь? Ответ указать в минутах.\n"
   ]
  },
  {
   "cell_type": "markdown",
   "id": "1eca1b37",
   "metadata": {},
   "source": [
    "РЕШЕНИЕ:\n",
    "1) 260 / 80 = 3,25(3 часа 15 минут или 195 минут)\n",
    "2) 260 / 100 = 2,6( 2 часа 36 минут или 156 минут)\n",
    "3) 195 - 156 = 39(минут)\n",
    "\n",
    "ОТВЕТ: НА 39 МИНУТ"
   ]
  },
  {
   "cell_type": "markdown",
   "id": "989b6314",
   "metadata": {},
   "source": [
    "# 3. Техническое задание\n"
   ]
  },
  {
   "cell_type": "code",
   "execution_count": 1,
   "id": "822f969b",
   "metadata": {},
   "outputs": [],
   "source": [
    "import pandas as pd\n",
    "import datetime as dt\n",
    "import numpy as np\n",
    "import matplotlib.pyplot as plt\n",
    "from datetime import datetime"
   ]
  },
  {
   "cell_type": "markdown",
   "id": "5b78a10b",
   "metadata": {},
   "source": [
    "Считываем файл"
   ]
  },
  {
   "cell_type": "code",
   "execution_count": 2,
   "id": "3e913863",
   "metadata": {},
   "outputs": [
    {
     "data": {
      "text/html": [
       "<div>\n",
       "<style scoped>\n",
       "    .dataframe tbody tr th:only-of-type {\n",
       "        vertical-align: middle;\n",
       "    }\n",
       "\n",
       "    .dataframe tbody tr th {\n",
       "        vertical-align: top;\n",
       "    }\n",
       "\n",
       "    .dataframe thead th {\n",
       "        text-align: right;\n",
       "    }\n",
       "</style>\n",
       "<table border=\"1\" class=\"dataframe\">\n",
       "  <thead>\n",
       "    <tr style=\"text-align: right;\">\n",
       "      <th></th>\n",
       "      <th>client_id</th>\n",
       "      <th>sum</th>\n",
       "      <th>status</th>\n",
       "      <th>sale</th>\n",
       "      <th>new/current</th>\n",
       "      <th>document</th>\n",
       "      <th>receiving_date</th>\n",
       "    </tr>\n",
       "  </thead>\n",
       "  <tbody>\n",
       "    <tr>\n",
       "      <th>0</th>\n",
       "      <td>NaN</td>\n",
       "      <td>NaN</td>\n",
       "      <td>Май 2021</td>\n",
       "      <td>NaN</td>\n",
       "      <td>NaN</td>\n",
       "      <td>NaN</td>\n",
       "      <td>NaN</td>\n",
       "    </tr>\n",
       "    <tr>\n",
       "      <th>1</th>\n",
       "      <td>6.0</td>\n",
       "      <td>11693.7</td>\n",
       "      <td>ВНУТРЕННИЙ</td>\n",
       "      <td>-</td>\n",
       "      <td>-</td>\n",
       "      <td>-</td>\n",
       "      <td>-</td>\n",
       "    </tr>\n",
       "    <tr>\n",
       "      <th>2</th>\n",
       "      <td>14.0</td>\n",
       "      <td>5452.7</td>\n",
       "      <td>ОПЛАЧЕНО</td>\n",
       "      <td>Петрова</td>\n",
       "      <td>новая</td>\n",
       "      <td>оригинал</td>\n",
       "      <td>2021-07-26 00:00:00</td>\n",
       "    </tr>\n",
       "    <tr>\n",
       "      <th>3</th>\n",
       "      <td>15.0</td>\n",
       "      <td>13991.7</td>\n",
       "      <td>ОПЛАЧЕНО</td>\n",
       "      <td>Иванов</td>\n",
       "      <td>текущая</td>\n",
       "      <td>оригинал</td>\n",
       "      <td>2021-06-08 00:00:00</td>\n",
       "    </tr>\n",
       "    <tr>\n",
       "      <th>4</th>\n",
       "      <td>16.0</td>\n",
       "      <td>719.7</td>\n",
       "      <td>ОПЛАЧЕНО</td>\n",
       "      <td>Иванов</td>\n",
       "      <td>текущая</td>\n",
       "      <td>оригинал</td>\n",
       "      <td>2021-06-08 00:00:00</td>\n",
       "    </tr>\n",
       "  </tbody>\n",
       "</table>\n",
       "</div>"
      ],
      "text/plain": [
       "   client_id      sum      status     sale new/current  document  \\\n",
       "0        NaN      NaN    Май 2021      NaN         NaN       NaN   \n",
       "1        6.0  11693.7  ВНУТРЕННИЙ        -           -         -   \n",
       "2       14.0   5452.7    ОПЛАЧЕНО  Петрова       новая  оригинал   \n",
       "3       15.0  13991.7    ОПЛАЧЕНО   Иванов     текущая  оригинал   \n",
       "4       16.0    719.7    ОПЛАЧЕНО   Иванов     текущая  оригинал   \n",
       "\n",
       "        receiving_date  \n",
       "0                  NaN  \n",
       "1                    -  \n",
       "2  2021-07-26 00:00:00  \n",
       "3  2021-06-08 00:00:00  \n",
       "4  2021-06-08 00:00:00  "
      ]
     },
     "execution_count": 2,
     "metadata": {},
     "output_type": "execute_result"
    }
   ],
   "source": [
    "data = pd.read_excel('data.xlsx')\n",
    "data = data.dropna(how= \"all\", axis=1)\n",
    "data.head()\n"
   ]
  },
  {
   "cell_type": "code",
   "execution_count": 3,
   "id": "815bb4bd",
   "metadata": {},
   "outputs": [
    {
     "data": {
      "text/html": [
       "<div>\n",
       "<style scoped>\n",
       "    .dataframe tbody tr th:only-of-type {\n",
       "        vertical-align: middle;\n",
       "    }\n",
       "\n",
       "    .dataframe tbody tr th {\n",
       "        vertical-align: top;\n",
       "    }\n",
       "\n",
       "    .dataframe thead th {\n",
       "        text-align: right;\n",
       "    }\n",
       "</style>\n",
       "<table border=\"1\" class=\"dataframe\">\n",
       "  <thead>\n",
       "    <tr style=\"text-align: right;\">\n",
       "      <th></th>\n",
       "      <th>client_id</th>\n",
       "      <th>sum</th>\n",
       "      <th>status</th>\n",
       "      <th>sale</th>\n",
       "      <th>new/current</th>\n",
       "      <th>document</th>\n",
       "      <th>receiving_date</th>\n",
       "      <th>days</th>\n",
       "      <th>months</th>\n",
       "      <th>years</th>\n",
       "    </tr>\n",
       "  </thead>\n",
       "  <tbody>\n",
       "    <tr>\n",
       "      <th>0</th>\n",
       "      <td>NaN</td>\n",
       "      <td>NaN</td>\n",
       "      <td>Май 2021</td>\n",
       "      <td>NaN</td>\n",
       "      <td>NaN</td>\n",
       "      <td>NaN</td>\n",
       "      <td>NaT</td>\n",
       "      <td>NaN</td>\n",
       "      <td>NaN</td>\n",
       "      <td>NaN</td>\n",
       "    </tr>\n",
       "    <tr>\n",
       "      <th>1</th>\n",
       "      <td>6.0</td>\n",
       "      <td>11693.7</td>\n",
       "      <td>ВНУТРЕННИЙ</td>\n",
       "      <td>-</td>\n",
       "      <td>-</td>\n",
       "      <td>-</td>\n",
       "      <td>NaT</td>\n",
       "      <td>NaN</td>\n",
       "      <td>NaN</td>\n",
       "      <td>NaN</td>\n",
       "    </tr>\n",
       "    <tr>\n",
       "      <th>2</th>\n",
       "      <td>14.0</td>\n",
       "      <td>5452.7</td>\n",
       "      <td>ОПЛАЧЕНО</td>\n",
       "      <td>Петрова</td>\n",
       "      <td>новая</td>\n",
       "      <td>оригинал</td>\n",
       "      <td>2021-07-26</td>\n",
       "      <td>26.0</td>\n",
       "      <td>7.0</td>\n",
       "      <td>2021.0</td>\n",
       "    </tr>\n",
       "    <tr>\n",
       "      <th>3</th>\n",
       "      <td>15.0</td>\n",
       "      <td>13991.7</td>\n",
       "      <td>ОПЛАЧЕНО</td>\n",
       "      <td>Иванов</td>\n",
       "      <td>текущая</td>\n",
       "      <td>оригинал</td>\n",
       "      <td>2021-06-08</td>\n",
       "      <td>8.0</td>\n",
       "      <td>6.0</td>\n",
       "      <td>2021.0</td>\n",
       "    </tr>\n",
       "    <tr>\n",
       "      <th>4</th>\n",
       "      <td>16.0</td>\n",
       "      <td>719.7</td>\n",
       "      <td>ОПЛАЧЕНО</td>\n",
       "      <td>Иванов</td>\n",
       "      <td>текущая</td>\n",
       "      <td>оригинал</td>\n",
       "      <td>2021-06-08</td>\n",
       "      <td>8.0</td>\n",
       "      <td>6.0</td>\n",
       "      <td>2021.0</td>\n",
       "    </tr>\n",
       "  </tbody>\n",
       "</table>\n",
       "</div>"
      ],
      "text/plain": [
       "   client_id      sum      status     sale new/current  document  \\\n",
       "0        NaN      NaN    Май 2021      NaN         NaN       NaN   \n",
       "1        6.0  11693.7  ВНУТРЕННИЙ        -           -         -   \n",
       "2       14.0   5452.7    ОПЛАЧЕНО  Петрова       новая  оригинал   \n",
       "3       15.0  13991.7    ОПЛАЧЕНО   Иванов     текущая  оригинал   \n",
       "4       16.0    719.7    ОПЛАЧЕНО   Иванов     текущая  оригинал   \n",
       "\n",
       "  receiving_date  days  months   years  \n",
       "0            NaT   NaN     NaN     NaN  \n",
       "1            NaT   NaN     NaN     NaN  \n",
       "2     2021-07-26  26.0     7.0  2021.0  \n",
       "3     2021-06-08   8.0     6.0  2021.0  \n",
       "4     2021-06-08   8.0     6.0  2021.0  "
      ]
     },
     "execution_count": 3,
     "metadata": {},
     "output_type": "execute_result"
    }
   ],
   "source": [
    "rec_date =[]\n",
    "for x in data['receiving_date']:\n",
    "    if isinstance(x, datetime):\n",
    "        rec_date.append(x)\n",
    "    else:\n",
    "        rec_date.append(np.nan)\n",
    "data['receiving_date'] = rec_date\n",
    "days =[]\n",
    "for i in data[\"receiving_date\"]:\n",
    "    try:\n",
    "        days.append(i.day)\n",
    "    except:\n",
    "        days.append(np.nan)\n",
    "data['days'] = days\n",
    "data.head()\n",
    "\n",
    "months =[]\n",
    "for i in data[\"receiving_date\"]:\n",
    "    try:\n",
    "        months.append(i.month)\n",
    "    except:\n",
    "        months.append(np.nan)\n",
    "data['months'] = months\n",
    "\n",
    "years =[]\n",
    "for i in data[\"receiving_date\"]:\n",
    "    try:\n",
    "        years.append(i.year)\n",
    "    except:\n",
    "        years.append(np.nan)\n",
    "data['years'] = years\n",
    "data.head()\n"
   ]
  },
  {
   "cell_type": "markdown",
   "id": "9f1c4fd6",
   "metadata": {},
   "source": [
    "# Вопросы:"
   ]
  },
  {
   "cell_type": "markdown",
   "id": "a45c335b",
   "metadata": {},
   "source": [
    "1) Вычислите общую выручку за июль 2021 по тем сделкам, приход денежных\n",
    "средств которых не просрочен.\n"
   ]
  },
  {
   "cell_type": "code",
   "execution_count": 4,
   "id": "7af11281",
   "metadata": {},
   "outputs": [
    {
     "data": {
      "text/plain": [
       "757830.7399999996"
      ]
     },
     "execution_count": 4,
     "metadata": {},
     "output_type": "execute_result"
    }
   ],
   "source": [
    "data.query('months == 7 & years == 2021 & status != \"ПРОСРОЧЕНО\"')['sum'].sum()"
   ]
  },
  {
   "cell_type": "markdown",
   "id": "3c2efda9",
   "metadata": {},
   "source": [
    "2) Как изменялась выручка компании за рассматриваемый период?\n",
    "Проиллюстрируйте графиком.\n"
   ]
  },
  {
   "cell_type": "code",
   "execution_count": 5,
   "id": "d9093fb4",
   "metadata": {
    "scrolled": true
   },
   "outputs": [
    {
     "data": {
      "image/png": "[encoded data removed]",
      "text/plain": [
       "<Figure size 640x480 with 1 Axes>"
      ]
     },
     "metadata": {},
     "output_type": "display_data"
    }
   ],
   "source": [
    "revenue = data.groupby('months').agg({'sum':'sum'}).plot()\n",
    "plt.title('Company revenue')\n",
    "plt.show()"
   ]
  },
  {
   "cell_type": "markdown",
   "id": "0d8ffdf2",
   "metadata": {},
   "source": [
    "Как мы видим выручка компании росла вплоть до начала осени 2021."
   ]
  },
  {
   "cell_type": "markdown",
   "id": "34a0a8f0",
   "metadata": {},
   "source": [
    "3) Кто из менеджеров привлек для компании больше всего денежных средств в\n",
    "сентябре 2021?"
   ]
  },
  {
   "cell_type": "code",
   "execution_count": 6,
   "id": "68691636",
   "metadata": {},
   "outputs": [
    {
     "name": "stdout",
     "output_type": "stream",
     "text": [
      "Петрова\n"
     ]
    }
   ],
   "source": [
    "sum_of_sale = data.query('months == 9 & years == 2021')\n",
    "\n",
    "table_of_manager = sum_of_sale.groupby(\"sale\").agg({'sum': 'sum'}).sort_values('sum', ascending=False)\n",
    "print(table_of_manager.idxmax()[0])\n"
   ]
  },
  {
   "cell_type": "markdown",
   "id": "561ed74d",
   "metadata": {},
   "source": [
    "Менеджер Петрова привлекла больше всего денежных средств в сентябре 2021"
   ]
  },
  {
   "cell_type": "markdown",
   "id": "f6621f7f",
   "metadata": {},
   "source": [
    "4) Какой тип сделок (новая/текущая) был преобладающим в октябре 2021?"
   ]
  },
  {
   "cell_type": "code",
   "execution_count": 7,
   "id": "8bb8651a",
   "metadata": {},
   "outputs": [
    {
     "name": "stdout",
     "output_type": "stream",
     "text": [
      "Текущих сделок: 105\n",
      "Новых сделок: 17\n",
      "Текущих сделок было больше в октябре 2021\n"
     ]
    }
   ],
   "source": [
    "deals_in_oct_21 = data.query('months == 10 & years == 2021')\n",
    "len_current = len(deals_in_oct_21[deals_in_oct_21['new/current'] == 'текущая'])\n",
    "print(\"Текущих сделок:\", len_current)\n",
    "len_new = len(deals_in_oct_21[deals_in_oct_21['new/current'] == 'новая'])\n",
    "print(\"Новых сделок:\", len_new)\n",
    "\n",
    "if len_new > len_current:\n",
    "    print(\"Новых сделок было больше в октябре 2021\")\n",
    "else:\n",
    "    print(\"Текущих сделок было больше в октябре 2021\")"
   ]
  },
  {
   "cell_type": "markdown",
   "id": "c995de94",
   "metadata": {},
   "source": [
    "5) Сколько оригиналов договора по майским сделкам было получено в июне 2021?"
   ]
  },
  {
   "cell_type": "code",
   "execution_count": 8,
   "id": "1df1451e",
   "metadata": {},
   "outputs": [
    {
     "name": "stdout",
     "output_type": "stream",
     "text": [
      "76 оригиналов договора по майским сделкам в июне 2021\n"
     ]
    }
   ],
   "source": [
    "docs_in_June_21 = data.query('months == 6 & years == 2021 & document==\"оригинал\"').shape[0]\n",
    "print(docs_in_June_21, 'оригиналов договора по майским сделкам в июне 2021')"
   ]
  },
  {
   "cell_type": "markdown",
   "id": "93dd3aa9",
   "metadata": {},
   "source": [
    "# Задание:"
   ]
  },
  {
   "cell_type": "markdown",
   "id": "6a60482e",
   "metadata": {},
   "source": [
    "За каждую заключенную сделку менеджер получает бонус, который рассчитывается\n",
    "следующим образом.\n",
    "1) За новые сделки менеджер получает 7 % от суммы, при условии, что статус\n",
    "оплаты «ОПЛАЧЕНО», а также имеется оригинал подписанного договора с\n",
    "клиентом (в рассматриваемом месяце).\n",
    "2) За текущие сделки менеджер получает 5 % от суммы, если она больше 10 тыс.,\n",
    "и 3 % от суммы, если меньше. При этом статус оплаты может быть любым,\n",
    "кроме «ПРОСРОЧЕНО», а также необходимо наличие оригинала подписанного\n",
    "договора с клиентом (в рассматриваемом месяце).\n",
    "Бонусы по сделкам, оригиналы для которых приходят позже рассматриваемого\n",
    "месяца, считаются остатком на следующий период, который выплачивается по мере\n",
    "прихода оригиналов. Вычислите остаток каждого из менеджеров на 01.07.2021"
   ]
  },
  {
   "cell_type": "code",
   "execution_count": 9,
   "id": "2cfe77a4",
   "metadata": {},
   "outputs": [
    {
     "data": {
      "text/html": [
       "<div>\n",
       "<style scoped>\n",
       "    .dataframe tbody tr th:only-of-type {\n",
       "        vertical-align: middle;\n",
       "    }\n",
       "\n",
       "    .dataframe tbody tr th {\n",
       "        vertical-align: top;\n",
       "    }\n",
       "\n",
       "    .dataframe thead th {\n",
       "        text-align: right;\n",
       "    }\n",
       "</style>\n",
       "<table border=\"1\" class=\"dataframe\">\n",
       "  <thead>\n",
       "    <tr style=\"text-align: right;\">\n",
       "      <th></th>\n",
       "      <th>client_id</th>\n",
       "      <th>sum</th>\n",
       "      <th>status</th>\n",
       "      <th>sale</th>\n",
       "      <th>new/current</th>\n",
       "      <th>document</th>\n",
       "      <th>receiving_date</th>\n",
       "      <th>days</th>\n",
       "      <th>months</th>\n",
       "      <th>years</th>\n",
       "      <th>bonus</th>\n",
       "    </tr>\n",
       "  </thead>\n",
       "  <tbody>\n",
       "    <tr>\n",
       "      <th>0</th>\n",
       "      <td>NaN</td>\n",
       "      <td>NaN</td>\n",
       "      <td>Май 2021</td>\n",
       "      <td>NaN</td>\n",
       "      <td>NaN</td>\n",
       "      <td>NaN</td>\n",
       "      <td>NaT</td>\n",
       "      <td>NaN</td>\n",
       "      <td>NaN</td>\n",
       "      <td>NaN</td>\n",
       "      <td>0.0</td>\n",
       "    </tr>\n",
       "    <tr>\n",
       "      <th>1</th>\n",
       "      <td>6.0</td>\n",
       "      <td>11693.7</td>\n",
       "      <td>ВНУТРЕННИЙ</td>\n",
       "      <td>-</td>\n",
       "      <td>-</td>\n",
       "      <td>-</td>\n",
       "      <td>NaT</td>\n",
       "      <td>NaN</td>\n",
       "      <td>NaN</td>\n",
       "      <td>NaN</td>\n",
       "      <td>0.0</td>\n",
       "    </tr>\n",
       "    <tr>\n",
       "      <th>2</th>\n",
       "      <td>14.0</td>\n",
       "      <td>5452.7</td>\n",
       "      <td>ОПЛАЧЕНО</td>\n",
       "      <td>Петрова</td>\n",
       "      <td>новая</td>\n",
       "      <td>оригинал</td>\n",
       "      <td>2021-07-26</td>\n",
       "      <td>26.0</td>\n",
       "      <td>7.0</td>\n",
       "      <td>2021.0</td>\n",
       "      <td>381.7</td>\n",
       "    </tr>\n",
       "    <tr>\n",
       "      <th>3</th>\n",
       "      <td>15.0</td>\n",
       "      <td>13991.7</td>\n",
       "      <td>ОПЛАЧЕНО</td>\n",
       "      <td>Иванов</td>\n",
       "      <td>текущая</td>\n",
       "      <td>оригинал</td>\n",
       "      <td>2021-06-08</td>\n",
       "      <td>8.0</td>\n",
       "      <td>6.0</td>\n",
       "      <td>2021.0</td>\n",
       "      <td>699.6</td>\n",
       "    </tr>\n",
       "    <tr>\n",
       "      <th>4</th>\n",
       "      <td>16.0</td>\n",
       "      <td>719.7</td>\n",
       "      <td>ОПЛАЧЕНО</td>\n",
       "      <td>Иванов</td>\n",
       "      <td>текущая</td>\n",
       "      <td>оригинал</td>\n",
       "      <td>2021-06-08</td>\n",
       "      <td>8.0</td>\n",
       "      <td>6.0</td>\n",
       "      <td>2021.0</td>\n",
       "      <td>21.6</td>\n",
       "    </tr>\n",
       "    <tr>\n",
       "      <th>...</th>\n",
       "      <td>...</td>\n",
       "      <td>...</td>\n",
       "      <td>...</td>\n",
       "      <td>...</td>\n",
       "      <td>...</td>\n",
       "      <td>...</td>\n",
       "      <td>...</td>\n",
       "      <td>...</td>\n",
       "      <td>...</td>\n",
       "      <td>...</td>\n",
       "      <td>...</td>\n",
       "    </tr>\n",
       "    <tr>\n",
       "      <th>725</th>\n",
       "      <td>285.0</td>\n",
       "      <td>4328.7</td>\n",
       "      <td>ОПЛАЧЕНО</td>\n",
       "      <td>Васильев</td>\n",
       "      <td>текущая</td>\n",
       "      <td>оригинал</td>\n",
       "      <td>2021-11-15</td>\n",
       "      <td>15.0</td>\n",
       "      <td>11.0</td>\n",
       "      <td>2021.0</td>\n",
       "      <td>129.9</td>\n",
       "    </tr>\n",
       "    <tr>\n",
       "      <th>726</th>\n",
       "      <td>360.0</td>\n",
       "      <td>3096.2</td>\n",
       "      <td>ОПЛАЧЕНО</td>\n",
       "      <td>Васильев</td>\n",
       "      <td>новая</td>\n",
       "      <td>НЕТ</td>\n",
       "      <td>NaT</td>\n",
       "      <td>NaN</td>\n",
       "      <td>NaN</td>\n",
       "      <td>NaN</td>\n",
       "      <td>216.7</td>\n",
       "    </tr>\n",
       "    <tr>\n",
       "      <th>727</th>\n",
       "      <td>360.0</td>\n",
       "      <td>3096.2</td>\n",
       "      <td>ПРОСРОЧЕНО</td>\n",
       "      <td>Васильев</td>\n",
       "      <td>новая</td>\n",
       "      <td>НЕТ</td>\n",
       "      <td>NaT</td>\n",
       "      <td>NaN</td>\n",
       "      <td>NaN</td>\n",
       "      <td>NaN</td>\n",
       "      <td>0.0</td>\n",
       "    </tr>\n",
       "    <tr>\n",
       "      <th>728</th>\n",
       "      <td>373.0</td>\n",
       "      <td>4403.7</td>\n",
       "      <td>ОПЛАЧЕНО</td>\n",
       "      <td>Михайлов</td>\n",
       "      <td>новая</td>\n",
       "      <td>оригинал</td>\n",
       "      <td>2021-11-08</td>\n",
       "      <td>8.0</td>\n",
       "      <td>11.0</td>\n",
       "      <td>2021.0</td>\n",
       "      <td>308.3</td>\n",
       "    </tr>\n",
       "    <tr>\n",
       "      <th>729</th>\n",
       "      <td>286.0</td>\n",
       "      <td>3978.7</td>\n",
       "      <td>ОПЛАЧЕНО</td>\n",
       "      <td>Филимонова</td>\n",
       "      <td>текущая</td>\n",
       "      <td>оригинал</td>\n",
       "      <td>2021-11-15</td>\n",
       "      <td>15.0</td>\n",
       "      <td>11.0</td>\n",
       "      <td>2021.0</td>\n",
       "      <td>119.4</td>\n",
       "    </tr>\n",
       "  </tbody>\n",
       "</table>\n",
       "<p>730 rows × 11 columns</p>\n",
       "</div>"
      ],
      "text/plain": [
       "     client_id      sum      status        sale new/current  document  \\\n",
       "0          NaN      NaN    Май 2021         NaN         NaN       NaN   \n",
       "1          6.0  11693.7  ВНУТРЕННИЙ           -           -         -   \n",
       "2         14.0   5452.7    ОПЛАЧЕНО     Петрова       новая  оригинал   \n",
       "3         15.0  13991.7    ОПЛАЧЕНО      Иванов     текущая  оригинал   \n",
       "4         16.0    719.7    ОПЛАЧЕНО      Иванов     текущая  оригинал   \n",
       "..         ...      ...         ...         ...         ...       ...   \n",
       "725      285.0   4328.7    ОПЛАЧЕНО    Васильев     текущая  оригинал   \n",
       "726      360.0   3096.2    ОПЛАЧЕНО    Васильев       новая       НЕТ   \n",
       "727      360.0   3096.2  ПРОСРОЧЕНО    Васильев       новая       НЕТ   \n",
       "728      373.0   4403.7    ОПЛАЧЕНО    Михайлов       новая  оригинал   \n",
       "729      286.0   3978.7    ОПЛАЧЕНО  Филимонова     текущая  оригинал   \n",
       "\n",
       "    receiving_date  days  months   years  bonus  \n",
       "0              NaT   NaN     NaN     NaN    0.0  \n",
       "1              NaT   NaN     NaN     NaN    0.0  \n",
       "2       2021-07-26  26.0     7.0  2021.0  381.7  \n",
       "3       2021-06-08   8.0     6.0  2021.0  699.6  \n",
       "4       2021-06-08   8.0     6.0  2021.0   21.6  \n",
       "..             ...   ...     ...     ...    ...  \n",
       "725     2021-11-15  15.0    11.0  2021.0  129.9  \n",
       "726            NaT   NaN     NaN     NaN  216.7  \n",
       "727            NaT   NaN     NaN     NaN    0.0  \n",
       "728     2021-11-08   8.0    11.0  2021.0  308.3  \n",
       "729     2021-11-15  15.0    11.0  2021.0  119.4  \n",
       "\n",
       "[730 rows x 11 columns]"
      ]
     },
     "execution_count": 9,
     "metadata": {},
     "output_type": "execute_result"
    }
   ],
   "source": [
    "bonus = []\n",
    "new_coef = 0.07\n",
    "cur_coef_1 = 0.05\n",
    "cur_coef_2 = 0.03\n",
    "for i in range(len(data)):\n",
    "    new_data = data.iloc[i]\n",
    "    if new_data['new/current'] == 'новая' and new_data['status'] == 'ОПЛАЧЕНО' and new_data['receiving_date'] :\n",
    "        bonus.append(round(new_data['sum'] * new_coef, 1)) \n",
    "    elif new_data['new/current'] == 'текущая' and new_data['status'] != 'ПРОСРОЧЕНО' and new_data['receiving_date'] :\n",
    "        if new_data['sum'] > 10000:\n",
    "            bonus.append(round(new_data['sum'] * cur_coef_1, 1)) \n",
    "        else:\n",
    "            bonus.append(round(new_data['sum'] * cur_coef_2, 1)) \n",
    "    else:\n",
    "        bonus.append(0)\n",
    "\n",
    "data['bonus'] = bonus \n",
    "data"
   ]
  },
  {
   "cell_type": "code",
   "execution_count": 10,
   "id": "fc0773f3",
   "metadata": {},
   "outputs": [
    {
     "name": "stdout",
     "output_type": "stream",
     "text": [
      "              bonus\n",
      "sale               \n",
      "Андреев     27164.5\n",
      "Васильев     6934.9\n",
      "Иванов      22041.6\n",
      "Кузнецова   16108.8\n",
      "Михайлов      607.1\n",
      "Петрова     28283.4\n",
      "Селиванов    7102.5\n",
      "Смирнов     31090.0\n",
      "Соколов      3730.7\n",
      "Филимонова  11044.1\n"
     ]
    }
   ],
   "source": [
    "new_data = data.query('receiving_date > \"2021-07-01\" ')\n",
    "\n",
    "s = new_data.groupby('sale').agg({'bonus': 'sum'})\n",
    "print(s)"
   ]
  }
 ],
 "metadata": {
  "kernelspec": {
   "display_name": "Python 3 (ipykernel)",
   "language": "python",
   "name": "python3"
  },
  "language_info": {
   "codemirror_mode": {
    "name": "ipython",
    "version": 3
   },
   "file_extension": ".py",
   "mimetype": "text/x-python",
   "name": "python",
   "nbconvert_exporter": "python",
   "pygments_lexer": "ipython3",
   "version": "3.11.5"
  }
 },
 "nbformat": 4,
 "nbformat_minor": 5
}
